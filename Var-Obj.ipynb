{
 "cells": [
  {
   "cell_type": "code",
   "execution_count": 1,
   "id": "ab74d5de-0162-42d4-ad1b-0a8a595a7bd7",
   "metadata": {},
   "outputs": [
    {
     "name": "stdout",
     "output_type": "stream",
     "text": [
      "1\n",
      "3.13\n",
      "Python\n",
      "True\n",
      "False\n"
     ]
    }
   ],
   "source": [
    "#Cria variavél do tipo inteiro\n",
    "\n",
    "x =1\n",
    "print(x)\n",
    "\n",
    "#Cria uma variavél do tipo Float\n",
    "\n",
    "y = 3.13\n",
    "print(y)\n",
    "\n",
    "#Cria uma variavél do tipo String\n",
    "\n",
    "m = \"Python\"\n",
    "m = 'Python'\n",
    "print(m)\n",
    "\n",
    "#Cria uma variavél do tipo logica (Boolean)\n",
    "\n",
    "w = True\n",
    "y = False\n",
    "print(w)\n",
    "print(y)\n"
   ]
  },
  {
   "cell_type": "code",
   "execution_count": 3,
   "id": "7c7483ac-3036-4dce-bc88-931b4d729a86",
   "metadata": {},
   "outputs": [
    {
     "name": "stdout",
     "output_type": "stream",
     "text": [
      "30.0\n"
     ]
    }
   ],
   "source": [
    "# Calculadora\n",
    "\n",
    "x = 10\n",
    "y = 20\n",
    "z = 100\n",
    "w = (x + y) * z / 100\n",
    "print(w)\n"
   ]
  },
  {
   "cell_type": "code",
   "execution_count": 5,
   "id": "b3079db4-0bef-4847-abd8-dbd80e612e9d",
   "metadata": {},
   "outputs": [
    {
     "name": "stdout",
     "output_type": "stream",
     "text": [
      "Este testo será impresso no console.\n",
      "10\n",
      "Texto e duas variavéis:  10 , 100\n"
     ]
    }
   ],
   "source": [
    "# Exibir texto no console\n",
    "\n",
    "print('Este testo será impresso no console.')\n",
    "print(x)\n",
    "print('Texto e duas variavéis: ', x, ',', z)\n"
   ]
  },
  {
   "cell_type": "code",
   "execution_count": 6,
   "id": "6d895970-200d-4e52-b2f5-436aa126d6f4",
   "metadata": {},
   "outputs": [
    {
     "name": "stdout",
     "output_type": "stream",
     "text": [
      "<class 'int'>\n",
      "<class 'str'>\n",
      "<class 'int'>\n"
     ]
    }
   ],
   "source": [
    "# Verificar tipo\n",
    "\n",
    "print(type(x))\n",
    "print(type(m))\n",
    "print(type(0))\n"
   ]
  },
  {
   "cell_type": "code",
   "execution_count": 8,
   "id": "31293b0a-02d1-4ae5-8fb3-910b7d9742b6",
   "metadata": {},
   "outputs": [
    {
     "name": "stdout",
     "output_type": "stream",
     "text": [
      "Informe o valor: \n"
     ]
    },
    {
     "name": "stdin",
     "output_type": "stream",
     "text": [
      " a\n"
     ]
    },
    {
     "name": "stdout",
     "output_type": "stream",
     "text": [
      "<class 'str'>\n"
     ]
    }
   ],
   "source": [
    "# Entrada de dados\n",
    "\n",
    "print('Informe o valor: ')\n",
    "i = input()\n",
    "\n",
    "# Mostra tipo!\n",
    "\n",
    "print(type(i))\n"
   ]
  },
  {
   "cell_type": "code",
   "execution_count": 9,
   "id": "25d36757-5979-4428-a035-1be560926311",
   "metadata": {},
   "outputs": [
    {
     "name": "stdout",
     "output_type": "stream",
     "text": [
      "Informe o valor: \n"
     ]
    },
    {
     "name": "stdin",
     "output_type": "stream",
     "text": [
      " 1\n"
     ]
    },
    {
     "name": "stdout",
     "output_type": "stream",
     "text": [
      "1\n"
     ]
    },
    {
     "name": "stdin",
     "output_type": "stream",
     "text": [
      "Digite o valor:  a\n"
     ]
    },
    {
     "name": "stdout",
     "output_type": "stream",
     "text": [
      "a\n"
     ]
    }
   ],
   "source": [
    "# Entradas de valores com msgs separadas e juntas\n",
    "\n",
    "print('Informe o valor: ')\n",
    "i = input()\n",
    "print(i)\n",
    "\n",
    "# ou\n",
    "\n",
    "i = input('Digite o valor: ')\n",
    "print(i)\n"
   ]
  },
  {
   "cell_type": "code",
   "execution_count": 10,
   "id": "345c6789-644c-4825-b797-59cae364d4e4",
   "metadata": {},
   "outputs": [
    {
     "name": "stdin",
     "output_type": "stream",
     "text": [
      "Informe o valor:  1\n"
     ]
    },
    {
     "name": "stdout",
     "output_type": "stream",
     "text": [
      "<class 'str'>\n",
      "<class 'int'>\n"
     ]
    }
   ],
   "source": [
    "# Conversão de valores para inteiro\n",
    "\n",
    "var = input('Informe o valor: ')\n",
    "print(type(var))\n",
    "var = int(var)\n",
    "print(type(var))\n"
   ]
  },
  {
   "cell_type": "code",
   "execution_count": 15,
   "id": "d6bd108f-52cb-4948-816d-55f94d4f60ce",
   "metadata": {},
   "outputs": [
    {
     "name": "stdin",
     "output_type": "stream",
     "text": [
      "Digite o valor:  30\n"
     ]
    },
    {
     "name": "stdout",
     "output_type": "stream",
     "text": [
      "<class 'str'>\n",
      "<class 'float'>\n"
     ]
    }
   ],
   "source": [
    "# Conversão de valores para Float\n",
    "\n",
    "var = input('Digite o valor: ')\n",
    "print(type(var))\n",
    "var = float(var)\n",
    "print(type(var))\n"
   ]
  },
  {
   "cell_type": "code",
   "execution_count": 16,
   "id": "90146cb7-773e-495a-a22f-b834be4982b0",
   "metadata": {},
   "outputs": [
    {
     "name": "stdout",
     "output_type": "stream",
     "text": [
      "10\n"
     ]
    }
   ],
   "source": [
    "# Este texto é comentário!\n",
    "\n",
    "x = 10 # A partir daque é um comentário!\n",
    "print(x)\n"
   ]
  },
  {
   "cell_type": "code",
   "execution_count": null,
   "id": "09e1b423-fb80-4edb-97ff-8de8e7ec74e4",
   "metadata": {},
   "outputs": [],
   "source": []
  }
 ],
 "metadata": {
  "kernelspec": {
   "display_name": "Python 3",
   "language": "python",
   "name": "python3"
  },
  "language_info": {
   "codemirror_mode": {
    "name": "ipython",
    "version": 3
   },
   "file_extension": ".py",
   "mimetype": "text/x-python",
   "name": "python",
   "nbconvert_exporter": "python",
   "pygments_lexer": "ipython3",
   "version": "3.8.8"
  }
 },
 "nbformat": 4,
 "nbformat_minor": 5
}
