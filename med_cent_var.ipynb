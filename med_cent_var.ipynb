{
 "cells": [
  {
   "cell_type": "code",
   "execution_count": 1,
   "id": "52837c41-a68c-4e9a-a931-76052f4e77f9",
   "metadata": {},
   "outputs": [],
   "source": [
    "# Medidas de centralidade e variabilidade."
   ]
  },
  {
   "cell_type": "code",
   "execution_count": 2,
   "id": "f1f16ebc-daaa-46fc-a38b-a689683c2bb2",
   "metadata": {},
   "outputs": [],
   "source": [
    "# Importação das bibliotecas: scipy para gerar estatisticas mais detalhadas.\n",
    "\n",
    "import numpy as np\n",
    "from scipy import stats"
   ]
  },
  {
   "cell_type": "code",
   "execution_count": 3,
   "id": "a6b05828-4e5b-4e50-8d16-289f96c599bc",
   "metadata": {},
   "outputs": [
    {
     "data": {
      "text/plain": [
       "181111.11111111112"
      ]
     },
     "execution_count": 3,
     "metadata": {},
     "output_type": "execute_result"
    }
   ],
   "source": [
    "# Criação da variável com os dados dos jogadores, visualização da mediana e média.\n",
    "\n",
    "jogadores = [40000, 18000, 12000, 250000, 30000, 140000, 300000, 40000, 800000]\n",
    "np.mean(jogadores)"
   ]
  },
  {
   "cell_type": "code",
   "execution_count": 4,
   "id": "9c095d62-aac8-42c8-9329-3a9e61e7a943",
   "metadata": {},
   "outputs": [
    {
     "data": {
      "text/plain": [
       "40000.0"
      ]
     },
     "execution_count": 4,
     "metadata": {},
     "output_type": "execute_result"
    }
   ],
   "source": [
    "np.median(jogadores)"
   ]
  },
  {
   "cell_type": "code",
   "execution_count": 5,
   "id": "e580a626-1d49-435b-bf05-4910d7a41056",
   "metadata": {},
   "outputs": [
    {
     "data": {
      "text/plain": [
       "array([ 12000.,  30000.,  40000., 250000., 800000.])"
      ]
     },
     "execution_count": 5,
     "metadata": {},
     "output_type": "execute_result"
    }
   ],
   "source": [
    "# Criação da variável para geração dos quartis (0%, 25%, 50%, 75% e 100%)\n",
    "\n",
    "quartis = np.quantile(jogadores, [0, 0.25, 0.5, 0.75, 1])\n",
    "quartis"
   ]
  },
  {
   "cell_type": "code",
   "execution_count": 6,
   "id": "07b23e85-2c09-49ca-9fca-f6a87d9bc472",
   "metadata": {},
   "outputs": [
    {
     "data": {
      "text/plain": [
       "255307.87514511007"
      ]
     },
     "execution_count": 6,
     "metadata": {},
     "output_type": "execute_result"
    }
   ],
   "source": [
    "# Visualização do desvio padrão.\n",
    "\n",
    "np.std(jogadores, ddof = 1)"
   ]
  },
  {
   "cell_type": "code",
   "execution_count": 8,
   "id": "d8a57229-db68-4c26-bfc0-a4da89b64323",
   "metadata": {},
   "outputs": [
    {
     "data": {
      "text/plain": [
       "DescribeResult(nobs=9, minmax=(12000, 800000), mean=181111.11111111112, variance=65182111111.11111, skewness=1.758635899846188, kurtosis=1.9572075427527729)"
      ]
     },
     "execution_count": 8,
     "metadata": {},
     "output_type": "execute_result"
    }
   ],
   "source": [
    "# Visualização de estatísticas mais detalhadas usando a biblioteca scipy.\n",
    "\n",
    "stats.describe(jogadores)"
   ]
  },
  {
   "cell_type": "code",
   "execution_count": null,
   "id": "6b71a8d9-8c7b-4e74-bc48-d23954b198d9",
   "metadata": {},
   "outputs": [],
   "source": []
  }
 ],
 "metadata": {
  "kernelspec": {
   "display_name": "Python 3",
   "language": "python",
   "name": "python3"
  },
  "language_info": {
   "codemirror_mode": {
    "name": "ipython",
    "version": 3
   },
   "file_extension": ".py",
   "mimetype": "text/x-python",
   "name": "python",
   "nbconvert_exporter": "python",
   "pygments_lexer": "ipython3",
   "version": "3.8.8"
  }
 },
 "nbformat": 4,
 "nbformat_minor": 5
}
