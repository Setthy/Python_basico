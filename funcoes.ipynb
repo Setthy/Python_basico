{
 "cells": [
  {
   "cell_type": "markdown",
   "id": "e4eeec56-e86e-4d9f-81e1-8669737e2ddd",
   "metadata": {},
   "source": [
    "# Funções"
   ]
  },
  {
   "cell_type": "code",
   "execution_count": 7,
   "id": "18f334e5-f18d-4899-b4c9-ebbffd6e1abb",
   "metadata": {},
   "outputs": [
    {
     "name": "stdout",
     "output_type": "stream",
     "text": [
      "Esta é uma função!\n"
     ]
    }
   ],
   "source": [
    "def imprime():\n",
    "    print(\"Esta é uma função!\")\n",
    "imprime()"
   ]
  },
  {
   "cell_type": "code",
   "execution_count": 3,
   "id": "fa35c6f6-3f79-44c6-928d-693a9e6ae565",
   "metadata": {},
   "outputs": [
    {
     "name": "stdout",
     "output_type": "stream",
     "text": [
      "Impressão deste texto!\n"
     ]
    }
   ],
   "source": [
    "# Com parametro\n",
    "\n",
    "def imprime(n):\n",
    "    print(n)\n",
    "imprime('Impressão deste texto!')"
   ]
  },
  {
   "cell_type": "code",
   "execution_count": 5,
   "id": "edfe788f-5dc6-421c-94ac-977e27ea0259",
   "metadata": {},
   "outputs": [
    {
     "name": "stdout",
     "output_type": "stream",
     "text": [
      "9\n"
     ]
    }
   ],
   "source": [
    "# Com retorno\n",
    "\n",
    "def potencia(n):\n",
    "    return n * n\n",
    "\n",
    "x = potencia(3)\n",
    "print(x)"
   ]
  },
  {
   "cell_type": "code",
   "execution_count": 6,
   "id": "e60581ab-3fda-40b3-a085-48582726b0de",
   "metadata": {},
   "outputs": [
    {
     "name": "stdout",
     "output_type": "stream",
     "text": [
      "1\n",
      "2\n",
      "3\n",
      "4\n",
      "5\n",
      "6\n",
      "7\n",
      "8\n",
      "9\n",
      "10\n",
      "1\n",
      "2\n",
      "3\n",
      "4\n",
      "5\n",
      "6\n",
      "7\n",
      "8\n",
      "9\n",
      "10\n"
     ]
    }
   ],
   "source": [
    "# Com valor default\n",
    "\n",
    "def intervalo(inic = 1, fim = 10):\n",
    "    for inic in range(1, fim + 1):\n",
    "        print(inic)\n",
    "        \n",
    "x = intervalo (1, 10)\n",
    "y = intervalo ()"
   ]
  },
  {
   "cell_type": "code",
   "execution_count": null,
   "id": "fcbc8834-3e2a-4895-8be0-2398ca9fb54a",
   "metadata": {},
   "outputs": [],
   "source": []
  }
 ],
 "metadata": {
  "kernelspec": {
   "display_name": "Python 3",
   "language": "python",
   "name": "python3"
  },
  "language_info": {
   "codemirror_mode": {
    "name": "ipython",
    "version": 3
   },
   "file_extension": ".py",
   "mimetype": "text/x-python",
   "name": "python",
   "nbconvert_exporter": "python",
   "pygments_lexer": "ipython3",
   "version": "3.8.8"
  }
 },
 "nbformat": 4,
 "nbformat_minor": 5
}
