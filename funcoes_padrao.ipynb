{
 "cells": [
  {
   "cell_type": "markdown",
   "id": "b3ac7d8a-8acf-47ad-bfb5-862f5f11b31d",
   "metadata": {},
   "source": [
    "# Funções Padrão"
   ]
  },
  {
   "cell_type": "code",
   "execution_count": 3,
   "id": "47162ee4-1073-4ef0-ad63-952d9af18a8e",
   "metadata": {},
   "outputs": [
    {
     "name": "stdout",
     "output_type": "stream",
     "text": [
      "200\n",
      "Maior valor:  45\n",
      "Menor valor:  1\n",
      "Soma:  108\n",
      "Arredondamento:  2.35\n"
     ]
    }
   ],
   "source": [
    "# Funções internas\n",
    "\n",
    "print(abs(-200))\n",
    "lst = [1,2,30,30,45]\n",
    "print('Maior valor: ', max(lst))\n",
    "print('Menor valor: ', min(lst))\n",
    "print('Soma: ', sum(lst))\n",
    "print('Arredondamento: ', round(2.34567,2))"
   ]
  },
  {
   "cell_type": "code",
   "execution_count": 4,
   "id": "0d8c2519-2ce1-4b5b-9bf7-c0cf45d1c27c",
   "metadata": {},
   "outputs": [
    {
     "name": "stdout",
     "output_type": "stream",
     "text": [
      "Média:  21.6\n",
      "Mediana:  30\n",
      "Moda:  30\n"
     ]
    }
   ],
   "source": [
    "# Estatistica\n",
    "\n",
    "from statistics import *\n",
    "print('Média: ', mean(lst))\n",
    "print('Mediana: ', median(lst))\n",
    "print('Moda: ', mode(lst))"
   ]
  },
  {
   "cell_type": "code",
   "execution_count": 5,
   "id": "9fd871eb-12f3-4415-8b96-60db42fa061f",
   "metadata": {},
   "outputs": [
    {
     "name": "stdout",
     "output_type": "stream",
     "text": [
      "Desvio padrão:  19.346834366376324\n"
     ]
    }
   ],
   "source": [
    "# Desvio padrão da amostra\n",
    "\n",
    "print('Desvio padrão: ', stdev(lst))\n"
   ]
  },
  {
   "cell_type": "code",
   "execution_count": 6,
   "id": "cddaf32c-11b3-4bd9-9dc2-a919d7420d81",
   "metadata": {},
   "outputs": [
    {
     "name": "stdout",
     "output_type": "stream",
     "text": [
      "Variância:  374.3\n"
     ]
    }
   ],
   "source": [
    "# Variancia da amostra\n",
    "\n",
    "print('Variância: ', variance(lst))"
   ]
  },
  {
   "cell_type": "code",
   "execution_count": 7,
   "id": "772f1e49-068c-41b0-a9fe-aa2833601974",
   "metadata": {},
   "outputs": [
    {
     "name": "stdout",
     "output_type": "stream",
     "text": [
      "<class 'numpy.ndarray'>\n",
      "[[0.04058246 0.4559182  0.09098849 0.49929315 0.20796841 0.6554316\n",
      "  0.17646868 0.26153991]\n",
      " [0.71409972 0.76305177 0.3621445  0.74251628 0.84826124 0.01866131\n",
      "  0.35155127 0.31554251]\n",
      " [0.04107063 0.92098717 0.31327932 0.32293011 0.07547265 0.12995305\n",
      "  0.19468767 0.5871579 ]\n",
      " [0.44205578 0.4068681  0.90476613 0.59990971 0.38353318 0.37075438\n",
      "  0.85787983 0.47070638]\n",
      " [0.66423366 0.00928863 0.27250128 0.51405952 0.37104103 0.69221339\n",
      "  0.68343886 0.94961121]\n",
      " [0.86477183 0.12032858 0.43692258 0.27492143 0.82123369 0.25518578\n",
      "  0.05715565 0.12969556]\n",
      " [0.08536923 0.96093728 0.13011504 0.51697167 0.59246626 0.58705667\n",
      "  0.46607476 0.51903519]\n",
      " [0.47754304 0.70561074 0.00717239 0.52630148 0.70185376 0.8090027\n",
      "  0.46192931 0.96985831]]\n"
     ]
    }
   ],
   "source": [
    "from numpy import *\n",
    "\n",
    "a = random.random((8,8))\n",
    "print(type(a))\n",
    "print(a)"
   ]
  },
  {
   "cell_type": "code",
   "execution_count": null,
   "id": "c2805c76-2359-4e86-b921-3f750798cfb5",
   "metadata": {},
   "outputs": [],
   "source": []
  }
 ],
 "metadata": {
  "kernelspec": {
   "display_name": "Python 3",
   "language": "python",
   "name": "python3"
  },
  "language_info": {
   "codemirror_mode": {
    "name": "ipython",
    "version": 3
   },
   "file_extension": ".py",
   "mimetype": "text/x-python",
   "name": "python",
   "nbconvert_exporter": "python",
   "pygments_lexer": "ipython3",
   "version": "3.8.8"
  }
 },
 "nbformat": 4,
 "nbformat_minor": 5
}
