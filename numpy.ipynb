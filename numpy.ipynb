{
 "cells": [
  {
   "cell_type": "code",
   "execution_count": 1,
   "id": "2125eea4-4775-4143-b44a-bd5ae6092809",
   "metadata": {},
   "outputs": [],
   "source": [
    "# numpy"
   ]
  },
  {
   "cell_type": "code",
   "execution_count": null,
   "id": "9a2c8037-aba8-4f4e-a444-f5038e119c74",
   "metadata": {},
   "outputs": [],
   "source": []
  },
  {
   "cell_type": "code",
   "execution_count": 2,
   "id": "bdcd5422-dfc2-44ca-9fab-9d1e581b9196",
   "metadata": {},
   "outputs": [],
   "source": [
    "import numpy as np"
   ]
  },
  {
   "cell_type": "code",
   "execution_count": 3,
   "id": "7aefe672-9e91-4c2b-b640-9dbb416801f7",
   "metadata": {},
   "outputs": [
    {
     "name": "stdout",
     "output_type": "stream",
     "text": [
      "[12 34 26 18 10]\n",
      "<class 'numpy.ndarray'>\n"
     ]
    }
   ],
   "source": [
    "# Cria uma matriz unidimensional\n",
    "\n",
    "mt = np.array([12,34,26,18,10])\n",
    "print(mt)\n",
    "print(type(mt))"
   ]
  },
  {
   "cell_type": "code",
   "execution_count": 5,
   "id": "8251e794-1b2b-44fa-bd5b-bbfcc4b6e8b5",
   "metadata": {},
   "outputs": [
    {
     "name": "stdout",
     "output_type": "stream",
     "text": [
      "[1. 2. 3.]\n",
      "<class 'numpy.ndarray'>\n",
      "[1 2 3]\n",
      "<class 'numpy.ndarray'>\n"
     ]
    }
   ],
   "source": [
    "# Criar array com um tipo especifico\n",
    "# Cria o array como float de 64 bits\n",
    "\n",
    "mtfloat = np.array([1,2,3], dtype = np.float64)\n",
    "print(mtfloat)\n",
    "print(type(mtfloat))\n",
    "mtint = np.array([1,2,3], dtype = np.int32)\n",
    "print(mtint)\n",
    "print(type(mtint))"
   ]
  },
  {
   "cell_type": "code",
   "execution_count": 6,
   "id": "a82e6f9d-d612-439d-9f26-f2f10bae6971",
   "metadata": {},
   "outputs": [
    {
     "name": "stdout",
     "output_type": "stream",
     "text": [
      "[ 1.        4.        3.6      -5.1       9.42      4.999999]\n",
      "[ 1  4  3 -5  9  4]\n"
     ]
    }
   ],
   "source": [
    "# Mudar o tipo de array\n",
    "# Podemos transformar tipos de dados de array\n",
    "\n",
    "mtnew = np.array([1,4, 3.6, -5.1, 9.42, 4.999999])\n",
    "print(mtnew)\n",
    "\n",
    "# Quando trasnformamos de float para int os valores são truncados\n",
    "\n",
    "mtnewint = mtnew.astype(np.int32)\n",
    "print(mtnewint)\n"
   ]
  },
  {
   "cell_type": "code",
   "execution_count": 7,
   "id": "8656a01a-21d6-4375-bb64-9faf94d4cb94",
   "metadata": {},
   "outputs": [
    {
     "name": "stdout",
     "output_type": "stream",
     "text": [
      "[1 2 3 4]\n",
      "[1. 2. 3. 4.]\n"
     ]
    }
   ],
   "source": [
    "# Podemos fazer o inverso também\n",
    "\n",
    "mt5 = np.array([1, 2, 3, 4])\n",
    "print(mt5)\n",
    "mt6 = mt5.astype(float)\n",
    "print(mt6)"
   ]
  },
  {
   "cell_type": "code",
   "execution_count": 8,
   "id": "b494d63c-d619-401e-94b5-075013540e9d",
   "metadata": {},
   "outputs": [
    {
     "name": "stdout",
     "output_type": "stream",
     "text": [
      "[[ 7  2 23]\n",
      " [12 27  4]\n",
      " [ 5 34 23]]\n"
     ]
    }
   ],
   "source": [
    "# Mais de uma dimensão\n",
    "# Cria uma matriz bidimensional\n",
    "\n",
    "mt7 = np.array([[7, 2, 23], [12, 27, 4], [5, 34, 23]])\n",
    "print(mt7)"
   ]
  },
  {
   "cell_type": "code",
   "execution_count": 3,
   "id": "93ad37b9-d342-4eb5-90b4-bd7e23a996c9",
   "metadata": {},
   "outputs": [
    {
     "name": "stdout",
     "output_type": "stream",
     "text": [
      "[[-1549367968         472]\n",
      " [          0           0]\n",
      " [          1    23533924]]\n",
      "-------\n",
      "[[0. 0. 0.]\n",
      " [0. 0. 0.]\n",
      " [0. 0. 0.]\n",
      " [0. 0. 0.]]\n",
      "-------\n",
      "[[1. 1. 1. 1. 1. 1. 1.]\n",
      " [1. 1. 1. 1. 1. 1. 1.]\n",
      " [1. 1. 1. 1. 1. 1. 1.]\n",
      " [1. 1. 1. 1. 1. 1. 1.]\n",
      " [1. 1. 1. 1. 1. 1. 1.]]\n",
      "-------\n",
      "[[1. 0. 0. 0. 0.]\n",
      " [0. 1. 0. 0. 0.]\n",
      " [0. 0. 1. 0. 0.]\n",
      " [0. 0. 0. 1. 0.]\n",
      " [0. 0. 0. 0. 1.]]\n",
      "-------\n"
     ]
    }
   ],
   "source": [
    "# Cria arrays vazios tipificados\n",
    "# empty siginifica que não são inicializados, não que são vazios\n",
    "\n",
    "vazio = np.empty([3, 2], dtype = int)\n",
    "print(vazio)\n",
    "print('-------')\n",
    "\n",
    "# Cria uma matriz 4x3 com valores zero\n",
    "\n",
    "zeros = np.zeros([4, 3])\n",
    "print(zeros)\n",
    "print('-------')\n",
    "\n",
    "# Com valores igual a um\n",
    "\n",
    "um = np.ones([5, 7])\n",
    "print(um)\n",
    "print('-------')\n",
    "\n",
    "# Cria matriz quadrada com diagonal principal com valores 1 e os outros valores zero\n",
    "\n",
    "diagonal = np.eye(5)\n",
    "print(diagonal)\n",
    "print('-------')\n"
   ]
  },
  {
   "cell_type": "code",
   "execution_count": 4,
   "id": "a9da8d96-2dbc-478f-9103-d286941e4c2b",
   "metadata": {},
   "outputs": [
    {
     "name": "stdout",
     "output_type": "stream",
     "text": [
      "[0.59293567 0.31837653 0.93398314 0.51736321 0.109311  ]\n",
      "-------\n",
      "[ 0.5958721   1.05749446  2.33437065 -0.38925184 -0.18286624]\n",
      "-------\n",
      "[[0.30716398 5.66228046 3.25395052 9.12309286]\n",
      " [5.4178406  7.57594166 4.43501118 4.07320625]\n",
      " [9.33590638 0.89879559 6.12926095 2.73666001]]\n",
      "-------\n"
     ]
    }
   ],
   "source": [
    "# Valores aleatórios entre zero e um\n",
    "\n",
    "ale = np.random.random((5))\n",
    "print(ale)\n",
    "print('-------')\n",
    "\n",
    "# Valores aleatórios distr. normal contendo negativos\n",
    "\n",
    "ale2 = np.random.randn((5))\n",
    "print(ale2)\n",
    "print('-------')\n",
    "\n",
    "#Valores aleatórios 3 x 4\n",
    "\n",
    "ale3 = (10*np.random.random((3, 4)))\n",
    "print(ale3)\n",
    "print('-------')\n"
   ]
  },
  {
   "cell_type": "code",
   "execution_count": 6,
   "id": "2684b681-5c40-4448-ae3c-df2a07bd0fa9",
   "metadata": {},
   "outputs": [
    {
     "name": "stdout",
     "output_type": "stream",
     "text": [
      "[0.51182162 0.9504637  0.14415961]\n",
      "-------\n"
     ]
    }
   ],
   "source": [
    "# Outra forma de gerar aleatórios\n",
    "# uso de semente\n",
    "\n",
    "gnr = np.random.default_rng(1)\n",
    "ale5 = gnr.random(3)\n",
    "print(ale5)\n",
    "print('-------')\n"
   ]
  },
  {
   "cell_type": "code",
   "execution_count": 7,
   "id": "e2a210cf-5acc-480f-a469-9d214d61270a",
   "metadata": {},
   "outputs": [
    {
     "name": "stdout",
     "output_type": "stream",
     "text": [
      "[11 12 13 14 15 16 17 18 19 20]\n"
     ]
    }
   ],
   "source": [
    "# Unique remove repetições\n",
    "\n",
    "j = np.array([11, 12, 13, 14, 15, 16, 17, 12, 13, 11, 18, 19, 20])\n",
    "j = np.unique(j)\n",
    "print(j)\n"
   ]
  },
  {
   "cell_type": "code",
   "execution_count": 11,
   "id": "8d4e2f8a-264e-47a4-8df5-d902b64ec4f5",
   "metadata": {},
   "outputs": [
    {
     "name": "stdout",
     "output_type": "stream",
     "text": [
      "[[17 22 43]\n",
      " [27 25 14]\n",
      " [15 24 32]]\n",
      "22\n",
      "(3, 3)\n"
     ]
    }
   ],
   "source": [
    "# Funções especificas\n",
    "# Cria a matriz bidimensional k\n",
    "\n",
    "k = np.array([[17, 22, 43], [27, 25, 14], [15, 24, 32]])\n",
    "\n",
    "# Mostra a matriz k\n",
    "\n",
    "print(k)\n",
    "\n",
    "# Mostra um elemento específico da matriz k\n",
    "\n",
    "print(k[0][1])\n",
    "\n",
    "# Mostra o tamanho das dimensões da matriz k\n",
    "\n",
    "print(k.shape)\n"
   ]
  },
  {
   "cell_type": "code",
   "execution_count": 12,
   "id": "0ac95cac-1fe3-401c-98a0-d94deb34bf78",
   "metadata": {},
   "outputs": [
    {
     "name": "stdout",
     "output_type": "stream",
     "text": [
      "43\n",
      "14\n",
      "219\n",
      "24.333333333333332\n",
      "8.615231988880057\n"
     ]
    }
   ],
   "source": [
    "# Funções Matemáticas\n",
    "# Mostra o maior valor da matriz k\n",
    "\n",
    "print(k.max())\n",
    "\n",
    "# Mostra o menos valor da matriz k\n",
    "\n",
    "print(k.min())\n",
    "\n",
    "# Mostra a soma dos valores da matriz k\n",
    "\n",
    "print(k.sum())\n",
    "\n",
    "# Mostra o valor da media dos valores da matriz k\n",
    "\n",
    "print(k.mean())\n",
    "\n",
    "# Mostra o valor de desvio padrão ( standart desviation) dos valores da matriz k\n",
    "\n",
    "print(k.std())\n"
   ]
  },
  {
   "cell_type": "code",
   "execution_count": 13,
   "id": "b65fdc16-8ff2-4417-a0e8-daed9e26af7b",
   "metadata": {},
   "outputs": [
    {
     "name": "stdout",
     "output_type": "stream",
     "text": [
      "[1. 2. 3. 4. 5. 6.]\n",
      "[2.71828183e+00 5.45981500e+01 8.10308393e+03 8.88611052e+06\n",
      " 7.20048993e+10 4.31123155e+15]\n"
     ]
    }
   ],
   "source": [
    "# Funções universáis, aplicadas a todos os elementos\n",
    "# Mostra o valor da raiz quadrada do todos os elementos\n",
    "\n",
    "k1 = np.array([1, 4, 9, 16, 25, 36])\n",
    "print(np.sqrt(k1))\n",
    "\n",
    "# Mostra o valor do exponencial de todos os elementos\n",
    "\n",
    "print(np.exp(k1))\n"
   ]
  },
  {
   "cell_type": "code",
   "execution_count": 14,
   "id": "802c1455-e0af-4803-bd5b-07d81f7ba78e",
   "metadata": {},
   "outputs": [
    {
     "name": "stdout",
     "output_type": "stream",
     "text": [
      "2\n",
      "--------\n",
      "[1 2]\n",
      "--------\n",
      "[2 3 4 5 6]\n",
      "--------\n",
      "[4 5 6]\n"
     ]
    }
   ],
   "source": [
    "# Extração de elementos\n",
    "\n",
    "m = np.array([1, 2, 3, 4, 5, 6])\n",
    "\n",
    "# Mostra o elemento da posição 2\n",
    "\n",
    "print(m[1])\n",
    "print('--------')\n",
    "\n",
    "# Mostra o array criado a partir da posição 0, dois elementos\n",
    "\n",
    "print(m[0:2])\n",
    "print('--------')\n",
    "\n",
    "# Mostra o array criado a apartir da 2a posição\n",
    "\n",
    "print(m[1:])\n",
    "print('--------')\n",
    "\n",
    "# Mostra o array criado a partir da antepenultima\n",
    "#Posição até o final\n",
    "\n",
    "print(m[-3:])\n"
   ]
  },
  {
   "cell_type": "code",
   "execution_count": 26,
   "id": "32df6881-54fd-424b-8eff-a791676a3058",
   "metadata": {},
   "outputs": [
    {
     "name": "stdout",
     "output_type": "stream",
     "text": [
      "[[4 5]\n",
      " [6 1]\n",
      " [7 4]]\n",
      "--------\n",
      "[4 5]\n",
      "--------\n",
      "[6 1]\n",
      "--------\n",
      "[7 4]\n",
      "--------\n",
      "[4 6 7]\n",
      "--------\n",
      "[5 1 4]\n"
     ]
    }
   ],
   "source": [
    "# Extração de linhas e colunas\n",
    "\n",
    "l = np.array([[4, 5], [6, 1], [7, 4]])\n",
    "print(l)\n",
    "print('--------')\n",
    "\n",
    "# Primeira linha todas as colunas\n",
    "\n",
    "l_linha_1 = l[0, :]\n",
    "print(l_linha_1)\n",
    "print('--------')\n",
    "\n",
    "# segunda linha\n",
    "\n",
    "l_linha_2 = l[1, :]\n",
    "print(l_linha_2)\n",
    "print('--------')\n",
    "\n",
    "# terceira linha\n",
    "\n",
    "l_linha_3 = l[2, :]\n",
    "print(l_linha_3)\n",
    "print('--------')\n",
    "\n",
    "# Todas as linhas, primeira coluna\n",
    "\n",
    "l_coluna_1 = l[:, 0]\n",
    "print(l_coluna_1)\n",
    "print('--------')\n",
    "\n",
    "# Todas as linhas, segunda coluna\n",
    "\n",
    "l_coluna_2 = l[:, 1]\n",
    "print(l_coluna_2)\n"
   ]
  },
  {
   "cell_type": "code",
   "execution_count": 27,
   "id": "db86152b-731f-449d-a765-ddd0c942c1b4",
   "metadata": {},
   "outputs": [
    {
     "name": "stdout",
     "output_type": "stream",
     "text": [
      "[[2 3]\n",
      " [4 5]]\n",
      "--------\n",
      "[[1 2]\n",
      " [3 4]]\n",
      "--------\n",
      "[[3 3]\n",
      " [5 5]\n",
      " [7 7]]\n"
     ]
    }
   ],
   "source": [
    "# Adição e multiplicação de matrizes\n",
    "\n",
    "n = np.array([[1, 2], [3, 4]])\n",
    "o = np.array([[1, 1], [1, 1]])\n",
    "res1 = n+o\n",
    "print(res1)\n",
    "print('--------')\n",
    "\n",
    "res2 = n*o\n",
    "print(res2)\n",
    "print('--------')\n",
    "\n",
    "p = np.array([[1, 2], [3, 4], [5, 6]])\n",
    "q = np.array([[2, 1]])\n",
    "print(p+q)\n"
   ]
  },
  {
   "cell_type": "code",
   "execution_count": 28,
   "id": "385ea2f1-8ea1-48cd-8fd8-5fc77731c58d",
   "metadata": {},
   "outputs": [
    {
     "name": "stdout",
     "output_type": "stream",
     "text": [
      "[[ 0  1  2  3  4]\n",
      " [ 5  6  7  8  9]\n",
      " [10 11 12 13 14]]\n",
      "--------\n",
      "[[ 0  5 10]\n",
      " [ 1  6 11]\n",
      " [ 2  7 12]\n",
      " [ 3  8 13]\n",
      " [ 4  9 14]]\n"
     ]
    }
   ],
   "source": [
    "# Transposição, rearranja um conjunto de 15 elementos de 0 a 14\n",
    "# em 3 linha e 5 colunas\n",
    "\n",
    "f = np.arange(15).reshape((3, 5))\n",
    "\n",
    "# Mostras as matrizes transporta entre linha e coluna\n",
    "\n",
    "print(f)\n",
    "print('--------')\n",
    "\n",
    "s = f.T\n",
    "print(s)\n"
   ]
  },
  {
   "cell_type": "code",
   "execution_count": 29,
   "id": "384f8585-a2cc-4a8f-8d87-9f21fcfd93ed",
   "metadata": {},
   "outputs": [
    {
     "name": "stdout",
     "output_type": "stream",
     "text": [
      "[[ 0  1  2  3  4]\n",
      " [ 5  6  7  8  9]\n",
      " [10 11 12 13 14]]\n",
      "-------\n",
      "[[ 0  5 10]\n",
      " [ 1  6 11]\n",
      " [ 2  7 12]\n",
      " [ 3  8 13]\n",
      " [ 4  9 14]]\n"
     ]
    }
   ],
   "source": [
    "# Outra forma de fazer, mesmo resultado\n",
    "\n",
    "r = np.arange(15).reshape((3, 5))\n",
    "print(r)\n",
    "print('-------')\n",
    "\n",
    "# Rearranja um conjunto de 15 elementos\n",
    "# Mostra a matrizes transposta entre linha e coluna\n",
    "\n",
    "s = r.transpose((1, 0))\n",
    "print(s)\n"
   ]
  },
  {
   "cell_type": "code",
   "execution_count": 30,
   "id": "62697278-a331-4bc6-9bcf-aa9e0a480311",
   "metadata": {},
   "outputs": [
    {
     "name": "stdout",
     "output_type": "stream",
     "text": [
      "[[ 0.74355321 -0.52536633  0.91986322  1.33401583]\n",
      " [ 0.19700507  0.68355855 -0.5546004  -0.10008003]\n",
      " [-1.17321306 -0.4446962   0.32260067 -0.98945551]\n",
      " [ 0.49817024  0.20970081 -1.14976577  0.09860001]]\n",
      "-------\n",
      "[[ True False  True  True]\n",
      " [ True  True False False]\n",
      " [False False  True False]\n",
      " [ True  True False  True]]\n",
      "-------\n",
      "[[ 1 -1  1  1]\n",
      " [ 1  1 -1 -1]\n",
      " [-1 -1  1 -1]\n",
      " [ 1  1 -1  1]]\n",
      "-------\n"
     ]
    }
   ],
   "source": [
    "# Expressões lógicas\n",
    "# Usando where\n",
    "# Criando matriz com valores aleatórios positivos e negativos\n",
    "\n",
    "v = np.random.randn(4, 4)\n",
    "print(v)\n",
    "print('-------')\n",
    "\n",
    "# Criando matriz com valores booleanos baseado na array v\n",
    "\n",
    "x = (v > 0)\n",
    "print(x)\n",
    "print('-------')\n",
    "\n",
    "# Criando matriz com valores -1 e 1 baseado nos valores do array x\n",
    "\n",
    "z = np.where(x > 0, 1, -1)\n",
    "print(z)\n",
    "print('-------')\n"
   ]
  },
  {
   "cell_type": "code",
   "execution_count": null,
   "id": "52ddfc34-a634-4647-99f3-a36b60516ae3",
   "metadata": {},
   "outputs": [],
   "source": []
  }
 ],
 "metadata": {
  "kernelspec": {
   "display_name": "Python 3",
   "language": "python",
   "name": "python3"
  },
  "language_info": {
   "codemirror_mode": {
    "name": "ipython",
    "version": 3
   },
   "file_extension": ".py",
   "mimetype": "text/x-python",
   "name": "python",
   "nbconvert_exporter": "python",
   "pygments_lexer": "ipython3",
   "version": "3.8.8"
  }
 },
 "nbformat": 4,
 "nbformat_minor": 5
}
