{
 "cells": [
  {
   "cell_type": "code",
   "execution_count": 1,
   "id": "c47287b5-df5d-4ece-821b-f6260fb04d54",
   "metadata": {},
   "outputs": [
    {
     "name": "stdout",
     "output_type": "stream",
     "text": [
      "[1, 2, 3, 4, 5]\n"
     ]
    }
   ],
   "source": [
    "# Listas\n",
    "\n",
    "# Formas de criar uma lista\n",
    "\n",
    "lst = [1,2,3,4,5]\n",
    "print(lst)"
   ]
  },
  {
   "cell_type": "code",
   "execution_count": 2,
   "id": "3b0bad3e-3ff3-43fe-8e1b-a3bb6bdce0ff",
   "metadata": {},
   "outputs": [
    {
     "name": "stdout",
     "output_type": "stream",
     "text": [
      "[1, 2, 3, 4, 5]\n"
     ]
    }
   ],
   "source": [
    "# Vários tipos\n",
    "\n",
    "lst2 = [1,2,3,4,5]\n",
    "print(lst2)"
   ]
  },
  {
   "cell_type": "code",
   "execution_count": 3,
   "id": "29c387bd-e558-4dfc-8aaf-4d373cd50884",
   "metadata": {},
   "outputs": [
    {
     "name": "stdout",
     "output_type": "stream",
     "text": [
      "[12, [1, 2, 3, 4, 5], 'a']\n"
     ]
    }
   ],
   "source": [
    "# Lista com lista dentro\n",
    "\n",
    "lst3 = [12,[1,2,3,4,5], 'a']\n",
    "print(lst3)"
   ]
  },
  {
   "cell_type": "code",
   "execution_count": 4,
   "id": "ee87c8cf-5749-4c3b-a8e8-2d0c26a11dfb",
   "metadata": {},
   "outputs": [
    {
     "name": "stdout",
     "output_type": "stream",
     "text": [
      "[0, 1, 2, 3, 4, 5, 6, 7, 8, 9]\n"
     ]
    }
   ],
   "source": [
    "# Criando lista com range\n",
    "\n",
    "lst4 = list(range(0, 10))\n",
    "print(lst4)"
   ]
  },
  {
   "cell_type": "code",
   "execution_count": 5,
   "id": "030fd774-c24a-46dc-83da-400b6e4a4acd",
   "metadata": {},
   "outputs": [
    {
     "name": "stdout",
     "output_type": "stream",
     "text": [
      "10\n"
     ]
    }
   ],
   "source": [
    "# Comprimento da lista\n",
    "\n",
    "print(len(lst4))"
   ]
  },
  {
   "cell_type": "code",
   "execution_count": 6,
   "id": "855c5438-56b2-43c7-8d76-cb63ecc92f8e",
   "metadata": {},
   "outputs": [
    {
     "name": "stdout",
     "output_type": "stream",
     "text": [
      "1\n",
      "[1, 2, 3, 4, 5]\n",
      "[4, 2, 3, 4, 5]\n"
     ]
    }
   ],
   "source": [
    "# Acessando elemento\n",
    "\n",
    "print(lst[0])\n",
    "\n",
    "# Posição 1 é uma lista\n",
    "\n",
    "print(lst3[1])\n",
    "\n",
    "# ALterando posição\n",
    "\n",
    "lst[0] = 4\n",
    "print(lst)\n"
   ]
  },
  {
   "cell_type": "code",
   "execution_count": 7,
   "id": "8b31e7a1-f1a3-408c-acf3-ffbb4a3ac53d",
   "metadata": {},
   "outputs": [
    {
     "name": "stdout",
     "output_type": "stream",
     "text": [
      "1\n",
      "2\n",
      "3\n",
      "4\n",
      "5\n",
      "6\n",
      "7\n",
      "8\n",
      "9\n",
      "10\n"
     ]
    }
   ],
   "source": [
    "# Percorrendo lista\n",
    "\n",
    "for n in range(0, len(lst4)):\n",
    "    print(lst4[n]+1)"
   ]
  },
  {
   "cell_type": "code",
   "execution_count": null,
   "id": "83f2f263-92d0-4cd5-90e6-a1b30fa6cfea",
   "metadata": {},
   "outputs": [],
   "source": []
  }
 ],
 "metadata": {
  "kernelspec": {
   "display_name": "Python 3",
   "language": "python",
   "name": "python3"
  },
  "language_info": {
   "codemirror_mode": {
    "name": "ipython",
    "version": 3
   },
   "file_extension": ".py",
   "mimetype": "text/x-python",
   "name": "python",
   "nbconvert_exporter": "python",
   "pygments_lexer": "ipython3",
   "version": "3.8.8"
  }
 },
 "nbformat": 4,
 "nbformat_minor": 5
}
