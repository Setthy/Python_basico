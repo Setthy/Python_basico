{
 "cells": [
  {
   "cell_type": "code",
   "execution_count": 1,
   "id": "f0f71d59-61ae-4457-8d52-536e3d1050d7",
   "metadata": {},
   "outputs": [
    {
     "name": "stdout",
     "output_type": "stream",
     "text": [
      "Aprovado!\n",
      "Parabéns!\n"
     ]
    }
   ],
   "source": [
    "# Estruturas de Decisão\n",
    "\n",
    "nota = 7\n",
    "\n",
    "if nota >= 7:\n",
    "    print('Aprovado!')\n",
    "    print('Parabéns!')\n",
    "else:\n",
    "    print('Reprovado!')\n",
    "    "
   ]
  },
  {
   "cell_type": "code",
   "execution_count": 2,
   "id": "c558b0f9-a42d-43f7-a231-4f7a5c537536",
   "metadata": {},
   "outputs": [
    {
     "name": "stdout",
     "output_type": "stream",
     "text": [
      "Reprovado!\n"
     ]
    }
   ],
   "source": [
    "# Só mudar o valor da variável\n",
    "\n",
    "nota = 5\n",
    "\n",
    "if nota >= 7:\n",
    "    print('Aprovado!')\n",
    "    print('Parabens!')\n",
    "else:\n",
    "    print('Reprovado!')\n",
    "    "
   ]
  },
  {
   "cell_type": "code",
   "execution_count": 1,
   "id": "2044f391-68bf-4fce-8a63-825435d2e1be",
   "metadata": {},
   "outputs": [
    {
     "name": "stdin",
     "output_type": "stream",
     "text": [
      "Insira o valor:  4\n"
     ]
    },
    {
     "ename": "TypeError",
     "evalue": "'<=' not supported between instances of 'str' and 'int'",
     "output_type": "error",
     "traceback": [
      "\u001b[1;31m---------------------------------------------------------------------------\u001b[0m",
      "\u001b[1;31mTypeError\u001b[0m                                 Traceback (most recent call last)",
      "\u001b[1;32m<ipython-input-1-6ae07a547984>\u001b[0m in \u001b[0;36m<module>\u001b[1;34m\u001b[0m\n\u001b[0;32m      3\u001b[0m \u001b[0mvalor\u001b[0m \u001b[1;33m=\u001b[0m \u001b[0minput\u001b[0m\u001b[1;33m(\u001b[0m\u001b[1;34m'Insira o valor: '\u001b[0m\u001b[1;33m)\u001b[0m\u001b[1;33m\u001b[0m\u001b[1;33m\u001b[0m\u001b[0m\n\u001b[0;32m      4\u001b[0m \u001b[1;33m\u001b[0m\u001b[0m\n\u001b[1;32m----> 5\u001b[1;33m \u001b[1;32mif\u001b[0m \u001b[0mvalor\u001b[0m \u001b[1;33m<=\u001b[0m \u001b[1;36m4\u001b[0m\u001b[1;33m:\u001b[0m\u001b[1;33m\u001b[0m\u001b[1;33m\u001b[0m\u001b[0m\n\u001b[0m\u001b[0;32m      6\u001b[0m     \u001b[0mprint\u001b[0m\u001b[1;33m(\u001b[0m\u001b[1;34m'Reprovado!'\u001b[0m\u001b[1;33m)\u001b[0m\u001b[1;33m\u001b[0m\u001b[1;33m\u001b[0m\u001b[0m\n\u001b[0;32m      7\u001b[0m \u001b[1;33m\u001b[0m\u001b[0m\n",
      "\u001b[1;31mTypeError\u001b[0m: '<=' not supported between instances of 'str' and 'int'"
     ]
    }
   ],
   "source": [
    "# Testar com 4, 5 e 7!\n",
    "\n",
    "valor = input('Insira o valor: ')\n",
    "\n",
    "if valor <= 4:\n",
    "    print('Reprovado!')\n",
    "    \n",
    "elif valor > 4 and valor <= 6:\n",
    "    print('Recuperação!')\n",
    "    \n",
    "else:\n",
    "    print('Aprovado!')\n"
   ]
  },
  {
   "cell_type": "code",
   "execution_count": null,
   "id": "2c44d183-7ccf-4d6d-a420-cf7653e94a7a",
   "metadata": {},
   "outputs": [],
   "source": []
  }
 ],
 "metadata": {
  "kernelspec": {
   "display_name": "Python 3",
   "language": "python",
   "name": "python3"
  },
  "language_info": {
   "codemirror_mode": {
    "name": "ipython",
    "version": 3
   },
   "file_extension": ".py",
   "mimetype": "text/x-python",
   "name": "python",
   "nbconvert_exporter": "python",
   "pygments_lexer": "ipython3",
   "version": "3.8.8"
  }
 },
 "nbformat": 4,
 "nbformat_minor": 5
}
