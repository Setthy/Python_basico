{
 "cells": [
  {
   "cell_type": "code",
   "execution_count": 1,
   "id": "5a9c1eba-0b7c-4d2e-87df-0ec4d6c4bcb8",
   "metadata": {},
   "outputs": [],
   "source": [
    "# Dicionários, Sets e tuplas"
   ]
  },
  {
   "cell_type": "code",
   "execution_count": 2,
   "id": "3bcd834e-a74f-42ee-ba12-659613589a02",
   "metadata": {},
   "outputs": [
    {
     "name": "stdout",
     "output_type": "stream",
     "text": [
      "{'João': 6.0, 'Maria': 8.0, 'Pedro': 6.5}\n"
     ]
    }
   ],
   "source": [
    "# Dicionários: Estrutura chave/ valor\n",
    "\n",
    "notas = {'João': 6.0, 'Maria': 8.0, 'Pedro': 6.5}\n",
    "print(notas)"
   ]
  },
  {
   "cell_type": "code",
   "execution_count": 3,
   "id": "02d83eb0-25ed-41d3-ab61-a94ef00e68ec",
   "metadata": {},
   "outputs": [
    {
     "data": {
      "text/plain": [
       "dict_keys(['João', 'Maria', 'Pedro'])"
      ]
     },
     "execution_count": 3,
     "metadata": {},
     "output_type": "execute_result"
    }
   ],
   "source": [
    "# Todas as chaves\n",
    "\n",
    "notas.keys()"
   ]
  },
  {
   "cell_type": "code",
   "execution_count": 4,
   "id": "69548852-4df6-4631-91e4-e01e6e64076b",
   "metadata": {},
   "outputs": [
    {
     "data": {
      "text/plain": [
       "dict_values([6.0, 8.0, 6.5])"
      ]
     },
     "execution_count": 4,
     "metadata": {},
     "output_type": "execute_result"
    }
   ],
   "source": [
    "# Todos os valores\n",
    "\n",
    "notas.values()"
   ]
  },
  {
   "cell_type": "code",
   "execution_count": 5,
   "id": "313915cd-22c9-424f-8cf4-65f9c682fb1d",
   "metadata": {},
   "outputs": [
    {
     "name": "stdout",
     "output_type": "stream",
     "text": [
      "True\n",
      "False\n"
     ]
    }
   ],
   "source": [
    "# Testa logicamente a existência\n",
    "\n",
    "print('João' in notas)\n",
    "print('Fernando' in notas)"
   ]
  },
  {
   "cell_type": "code",
   "execution_count": 7,
   "id": "7823dee4-6a75-41f2-804e-ab57faa2a2e5",
   "metadata": {},
   "outputs": [
    {
     "name": "stdout",
     "output_type": "stream",
     "text": [
      "{'Maria': 8.0, 'Pedro': 6.5}\n"
     ]
    }
   ],
   "source": [
    "# Apaga um elemento\n",
    "\n",
    "del notas['João']\n",
    "print(notas)"
   ]
  },
  {
   "cell_type": "code",
   "execution_count": 8,
   "id": "b76e7cd3-bb71-4d73-b9f2-53f5b9e2b6f7",
   "metadata": {},
   "outputs": [
    {
     "name": "stdout",
     "output_type": "stream",
     "text": [
      "{'Maria': 8.0, 'Pedro': 6.5, 'Ana': 9}\n"
     ]
    }
   ],
   "source": [
    "# Inclui um elemento\n",
    "\n",
    "notas ['Ana'] = 9\n",
    "print(notas)"
   ]
  },
  {
   "cell_type": "code",
   "execution_count": 11,
   "id": "5a7f0f0d-2c40-42f4-8fb6-b3237d6ce2e9",
   "metadata": {},
   "outputs": [
    {
     "data": {
      "text/plain": [
       "9"
      ]
     },
     "execution_count": 11,
     "metadata": {},
     "output_type": "execute_result"
    }
   ],
   "source": [
    "# Busca um valor, se não for encontrado mostra o segundo parametro\n",
    "\n",
    "notas.get('Geraldo', \"Não encontrado!\")\n",
    "# notas.get('Ana', 'Encontrado!')"
   ]
  },
  {
   "cell_type": "code",
   "execution_count": 12,
   "id": "59043f88-0977-4911-83a4-1e4bc2d0fbeb",
   "metadata": {},
   "outputs": [
    {
     "name": "stdout",
     "output_type": "stream",
     "text": [
      "{'Hive', 'Spark', 'Sqoop'}\n"
     ]
    }
   ],
   "source": [
    "# sets são conjuntos não ordenados de elementos não repetidos\n",
    "\n",
    "bigdata = {'Spark', 'Hive', 'Sqoop'}\n",
    "print(bigdata)"
   ]
  },
  {
   "cell_type": "code",
   "execution_count": 13,
   "id": "f5acb8de-d25d-43c4-86ce-8d952af286ed",
   "metadata": {},
   "outputs": [
    {
     "name": "stdout",
     "output_type": "stream",
     "text": [
      "True\n"
     ]
    }
   ],
   "source": [
    "# Verifica existência\n",
    "\n",
    "print('Spark' in bigdata)"
   ]
  },
  {
   "cell_type": "code",
   "execution_count": 14,
   "id": "5ba7c991-edb5-42f5-9710-cf70a8a756d0",
   "metadata": {},
   "outputs": [
    {
     "data": {
      "text/plain": [
       "{'Hadoop', 'Hive', 'Spark', 'Sqoop'}"
      ]
     },
     "execution_count": 14,
     "metadata": {},
     "output_type": "execute_result"
    }
   ],
   "source": [
    "# Adiciona elementos\n",
    "\n",
    "bigdata.add('Hadoop')\n",
    "bigdata"
   ]
  },
  {
   "cell_type": "code",
   "execution_count": 15,
   "id": "1b8b7393-99e1-4ede-9524-175d371aa1b5",
   "metadata": {},
   "outputs": [
    {
     "name": "stdout",
     "output_type": "stream",
     "text": [
      "4\n"
     ]
    }
   ],
   "source": [
    "# Número de elementos\n",
    "\n",
    "print(len(bigdata))"
   ]
  },
  {
   "cell_type": "code",
   "execution_count": 16,
   "id": "9b2d7f89-1977-44c3-baa8-83b3435d03fb",
   "metadata": {},
   "outputs": [
    {
     "data": {
      "text/plain": [
       "{'Hadoop', 'Hive', 'Spark', 'Sqoop'}"
      ]
     },
     "execution_count": 16,
     "metadata": {},
     "output_type": "execute_result"
    }
   ],
   "source": [
    "bigdata.add('Spark')\n",
    "bigdata"
   ]
  },
  {
   "cell_type": "code",
   "execution_count": 18,
   "id": "7fb0a9a3-3986-4c15-a0d0-83139544f52a",
   "metadata": {},
   "outputs": [
    {
     "data": {
      "text/plain": [
       "(1, 2, 3, 4, 5, 6, 7)"
      ]
     },
     "execution_count": 18,
     "metadata": {},
     "output_type": "execute_result"
    }
   ],
   "source": [
    "# tuplas são listas que não podem ser alteradas\n",
    "# Listas usam [], tuplas usam ()\n",
    "\n",
    "tupla = (1,2,3,4,5,6,7)\n",
    "tupla"
   ]
  },
  {
   "cell_type": "code",
   "execution_count": 19,
   "id": "6854ec3e-0744-452e-9cff-db958fe89910",
   "metadata": {},
   "outputs": [
    {
     "data": {
      "text/plain": [
       "5"
      ]
     },
     "execution_count": 19,
     "metadata": {},
     "output_type": "execute_result"
    }
   ],
   "source": [
    "tupla[4]"
   ]
  },
  {
   "cell_type": "code",
   "execution_count": 20,
   "id": "0323418e-be12-4287-a12c-973ce4d23cbe",
   "metadata": {},
   "outputs": [
    {
     "data": {
      "text/plain": [
       "{(0, 1): 0,\n",
       " (1, 2): 1,\n",
       " (2, 3): 2,\n",
       " (3, 4): 3,\n",
       " (4, 5): 4,\n",
       " (5, 6): 5,\n",
       " (6, 7): 6,\n",
       " (7, 8): 7,\n",
       " (8, 9): 8,\n",
       " (9, 10): 9}"
      ]
     },
     "execution_count": 20,
     "metadata": {},
     "output_type": "execute_result"
    }
   ],
   "source": [
    "# Dicionários em que cada posição recebe uma tupla\n",
    "\n",
    "dic2 = {(0, 1): 0, (1, 2):1, (2, 3): 2, (3, 4): 3, (4, 5): 4, (5, 6): 5, (6, 7): 6, (7, 8): 7, (8, 9): 8, (9, 10): 9 }\n",
    "dic2"
   ]
  },
  {
   "cell_type": "code",
   "execution_count": 21,
   "id": "62164c94-555f-4f56-aa60-9413967edc7e",
   "metadata": {},
   "outputs": [
    {
     "name": "stdout",
     "output_type": "stream",
     "text": [
      "<class 'dict'>\n",
      "<class 'set'>\n",
      "<class 'tuple'>\n"
     ]
    }
   ],
   "source": [
    "print(type(notas))\n",
    "print(type(bigdata))\n",
    "print(type(tupla))"
   ]
  },
  {
   "cell_type": "code",
   "execution_count": null,
   "id": "c639e167-afa3-4ffa-baf1-865bbbc5cf02",
   "metadata": {},
   "outputs": [],
   "source": []
  }
 ],
 "metadata": {
  "kernelspec": {
   "display_name": "Python 3",
   "language": "python",
   "name": "python3"
  },
  "language_info": {
   "codemirror_mode": {
    "name": "ipython",
    "version": 3
   },
   "file_extension": ".py",
   "mimetype": "text/x-python",
   "name": "python",
   "nbconvert_exporter": "python",
   "pygments_lexer": "ipython3",
   "version": "3.8.8"
  }
 },
 "nbformat": 4,
 "nbformat_minor": 5
}
